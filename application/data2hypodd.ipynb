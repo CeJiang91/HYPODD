{
 "cells": [
  {
   "cell_type": "code",
   "execution_count": 1,
   "metadata": {},
   "outputs": [],
   "source": [
    "import os\n",
    "import shutil\n",
    "import glob\n",
    "from obspy import UTCDateTime\n",
    "\n",
    "files=glob.glob(r'.\\*.txt')"
   ]
  },
  {
   "cell_type": "code",
   "execution_count": 2,
   "metadata": {},
   "outputs": [],
   "source": [
    "class event:\n",
    "    def __init__(self, lat, lon, depth, t, M):\n",
    "        self.lat = lat\n",
    "        self.lon = lon\n",
    "        self.depth = depth\n",
    "        self.t = t\n",
    "        self.M = M"
   ]
  },
  {
   "cell_type": "code",
   "execution_count": 3,
   "metadata": {
    "scrolled": true
   },
   "outputs": [],
   "source": [
    "output = []\n",
    "fnum = 0\n",
    "for file in files:\n",
    "    f = open(file)\n",
    "    lines = f.readlines()\n",
    "    isStart = 'Y'\n",
    "    evn_n = 0\n",
    "    evn_ls = []\n",
    "    del lines[0]\n",
    "    del lines[0]\n",
    "    for line in lines:\n",
    "        #print(line)\n",
    "        if (line=='\\n'):\n",
    "            # finish the last data segment\n",
    "                evn_ls.append(event(lat,lon,depth,t, M))\n",
    "                evn_ls[evn_n-1].phs = phs\n",
    "                evn_ls[evn_n-1].phs_num = len(phs)\n",
    "                evn_ls[evn_n-1].gap_azi = gap_azi\n",
    "                break\n",
    "        if line[0:3]=='DBO':\n",
    "            if isStart =='Y':\n",
    "                isStart ='N'\n",
    "            else:\n",
    "                # finish last data segment\n",
    "                evn_ls.append(event(lat,lon,depth,t, M))\n",
    "                evn_ls[evn_n-1].phs = phs\n",
    "                evn_ls[evn_n-1].phs_num = len(phs)\n",
    "                evn_ls[evn_n-1].gap_azi = gap_azi\n",
    "            #record new data segment\n",
    "            t = UTCDateTime(line[7:29])\n",
    "            lat = line[31:37]\n",
    "            lon = line[39:46]\n",
    "            depth = line[47:50]\n",
    "            if (depth.isspace()):\n",
    "                depth='999'\n",
    "            phs = []\n",
    "            evn_n += 1\n",
    "        if line[0:3]=='DEO':\n",
    "            M = line[50:54]\n",
    "            gap_azi = line[72:77]\n",
    "            if gap_azi.isspace():\n",
    "                gap_azi = \"%7.1f\"%float(360)\n",
    "            else:\n",
    "                gap_azi = gap_azi.strip()\n",
    "        if line[0:3]=='DPB':\n",
    "            #print(line)\n",
    "            ph_nm = (line[25:28]).upper()\n",
    "            if (ph_nm!=' PG') and (ph_nm!=' SG') and (ph_nm!=' PN') and (ph_nm!=' SN')\\\n",
    "            and (ph_nm!=' PB')and (ph_nm!=' SB'):\n",
    "                continue\n",
    "            ph_t = UTCDateTime(line[34:56])\n",
    "            st_nm = line[7:12]\n",
    "            net_nm = line[4:6]\n",
    "            netst_nm = net_nm.strip()+'.'+st_nm.strip()\n",
    "            travel_t = ph_t - t\n",
    "            weight = line[29]\n",
    "            distance = line[65:71]\n",
    "            azi = line[72:77]\n",
    "            if distance.isspace() or weight.isspace():\n",
    "                continue\n",
    "            tmp_ph = netst_nm.strip().ljust(7) + \"%7.2f\"%(travel_t)+\"%6.1f\"%int(weight)\\\n",
    "            + ph_nm.rjust(5)+\"%7.1f\"%float(distance)+ ph_t.strftime(' %H:%M:%S.%f')[:-4]\\\n",
    "            +'  0.00'+ azi.rjust(6)\n",
    "            phs.append(tmp_ph)\n",
    "            #break\n",
    "    evn_ls.reverse()\n",
    "    #事件编号及序号\n",
    "    pre_mm = 'None'\n",
    "    sn = 0\n",
    "    for evn in evn_ls:\n",
    "        mm = evn.t.strftime('%m')\n",
    "        if mm!=pre_mm:\n",
    "            c = 1\n",
    "            pre_mm = mm\n",
    "        else:\n",
    "            c +=1\n",
    "        evn.code = evn.t.strftime('%y%m')+\"%04d\"%(c)\n",
    "        sn += 1\n",
    "        evn.serial_num = 0 + len(output) + sn\n",
    "    f.close()\n",
    "    output = output + evn_ls\n",
    "    fnum +=1\n",
    "#     if evn_n>10:\n",
    "#         break\n",
    "    #break"
   ]
  },
  {
   "cell_type": "code",
   "execution_count": 4,
   "metadata": {
    "scrolled": true
   },
   "outputs": [],
   "source": [
    "ol = []\n",
    "fo = open('.\\\\out.dat', 'w+')\n",
    "for e in output:\n",
    "    nms = []\n",
    "    stn = 0\n",
    "    for ph in e.phs:\n",
    "        st_nm = ph[0:7]\n",
    "        if st_nm not in nms:\n",
    "            nms.append(st_nm)\n",
    "            stn +=1\n",
    "    ol.append(e.t.strftime('# %Y %m %d %H %M %S.%f')[:-4]+\"%9.4f\"%float(e.lat)+\"%9.4f\"%float(e.lon)\\\n",
    "             +\"%6.1f\"%float(e.depth)+e.M.rjust(5)+'  0.0  0.0   0.000'+\"%7d\"%(e.serial_num)\\\n",
    "              +\"%5d\"%(e.phs_num)+\"%5d\"%(stn)+'    0.0'+e.gap_azi.rjust(7))\n",
    "#     for ph in e.phs:\n",
    "#         if ph[50:].isspace():\n",
    "#             tmp_ph = list(ph)\n",
    "#             tmp_ph[50:] = e.phs[-1][50:]\n",
    "#             ph = ''.join(tmp_ph)\n",
    "    for i in range(len(e.phs)):\n",
    "        ph = e.phs[i]\n",
    "        if ph[50:].isspace():\n",
    "            for j in range(len(e.phs)):\n",
    "                ph2 = e.phs[j]\n",
    "                if (ph[0:7]==ph2[0:7]) and ((ph2[20:25].strip()=='PG')or(ph2[20:25].strip()=='SG')) and not ph2[50:].isspace():\n",
    "                    tmp_ph = list(ph)\n",
    "                    tmp_ph[50:] = ph2[50:]\n",
    "                    ph = ''.join(tmp_ph)\n",
    "            if ph[50:].isspace():\n",
    "                tmp_ph = list(ph)\n",
    "                tmp_ph[50:] = \"%6.1f\"%float(360)\n",
    "                ph = ''.join(tmp_ph)\n",
    "        ol.append(ph)\n",
    "for l in ol:\n",
    "    fo.write(l+'\\n')\n",
    "fo.close()"
   ]
  },
  {
   "cell_type": "markdown",
   "metadata": {},
   "source": [
    "for i in range(len(e.phs)):\n",
    "    ph = e.phs[i]\n",
    "    if ph[50:].isspace():\n",
    "        for j in range(len(e.phs)):\n",
    "            ph2 = e.phs[j]\n",
    "            if (ph[0:7]==ph2[0:7]) and ((ph2[20:25].strip()=='PG')or(ph2[20:25].strip()=='SG')) and not ph2[50:].isspace():\n",
    "                tmp_ph = list(ph)\n",
    "                tmp_ph[50:] = ph2[50:]\n",
    "                ph = ''.join(tmp_ph)\n",
    "        if ph[50:].isspace():\n",
    "            tmp_ph = list(ph)\n",
    "            tmp_ph[50:] = \"%6.1f\"%float(360)\n",
    "            ph = ''.join(tmp_ph)"
   ]
  },
  {
   "cell_type": "code",
   "execution_count": 5,
   "metadata": {},
   "outputs": [
    {
     "data": {
      "text/plain": [
       "False"
      ]
     },
     "execution_count": 5,
     "metadata": {},
     "output_type": "execute_result"
    }
   ],
   "source": [
    "not '  '.isspace()"
   ]
  },
  {
   "cell_type": "code",
   "execution_count": 6,
   "metadata": {},
   "outputs": [
    {
     "data": {
      "text/plain": [
       "'GD.NAP '"
      ]
     },
     "execution_count": 6,
     "metadata": {},
     "output_type": "execute_result"
    }
   ],
   "source": [
    "ph[0:7]"
   ]
  },
  {
   "cell_type": "markdown",
   "metadata": {},
   "source": [
    "201307011206"
   ]
  }
 ],
 "metadata": {
  "kernelspec": {
   "display_name": "Python 3",
   "language": "python",
   "name": "python3"
  },
  "language_info": {
   "codemirror_mode": {
    "name": "ipython",
    "version": 3
   },
   "file_extension": ".py",
   "mimetype": "text/x-python",
   "name": "python",
   "nbconvert_exporter": "python",
   "pygments_lexer": "ipython3",
   "version": "3.7.9"
  }
 },
 "nbformat": 4,
 "nbformat_minor": 4
}
